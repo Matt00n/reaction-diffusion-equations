{
 "cells": [
  {
   "cell_type": "code",
   "execution_count": 1,
   "metadata": {},
   "outputs": [],
   "source": [
    "import math\n",
    "import numpy as np"
   ]
  },
  {
   "cell_type": "code",
   "execution_count": 2,
   "metadata": {},
   "outputs": [
    {
     "data": {
      "text/plain": [
       "array([0.2, 0.4, 0.6, 0.8, 1. , 1.2, 1.4, 1.6, 1.8, 2. ])"
      ]
     },
     "execution_count": 2,
     "metadata": {},
     "output_type": "execute_result"
    }
   ],
   "source": [
    "h = np.ones(10, np.float64) * 1/5\n",
    "np.cumsum(h)"
   ]
  },
  {
   "cell_type": "code",
   "execution_count": null,
   "metadata": {},
   "outputs": [],
   "source": [
    "def solve_rdp(f, c, n, base='equal'):\n",
    "    tridiag = np.zeros((n+1, n+1), np.float64)\n",
    "    b = np.zeros(n+1, np.float64)\n",
    "    u = np.zeros(n+1, np.float64)\n",
    "\n",
    "    if base == 'equal':\n",
    "        h = np.ones(n, np.float64) * 1/n\n",
    "\n",
    "    x = np.zeros(n+1, np.float64)\n",
    "    x[1:] = np.cumsum(h)\n",
    "\n",
    "    b = f(x)\n",
    "    \n",
    "    # initialization\n",
    "    for i in range(n+2):\n",
    "        pass # TODO \n",
    "    \n",
    "    # Thomas-Algorithmus\n",
    "    # Elimination\n",
    "    for i in range(2, n+2):\n",
    "        l = e[i] / d[i-1] # TODO: save divide\n",
    "        d[i] = d[i] - l * f[i-1]\n",
    "        b[i] = b[i] - l * b[i-1]\n",
    "\n",
    "    # Rückwärtsersetzung\n",
    "    u[n+1] = b[n+1] / d[n+1] # TODO: save divide\n",
    "    for i in range(1, n+1):\n",
    "        ind = n+1 - i\n",
    "        u[ind] = (b[ind] - f[ind] * u[ind+1]) / d[ind] # TODO: save divide\n",
    "\n",
    "    return u"
   ]
  }
 ],
 "metadata": {
  "kernelspec": {
   "display_name": "Python 3.9.13 ('rl')",
   "language": "python",
   "name": "python3"
  },
  "language_info": {
   "codemirror_mode": {
    "name": "ipython",
    "version": 3
   },
   "file_extension": ".py",
   "mimetype": "text/x-python",
   "name": "python",
   "nbconvert_exporter": "python",
   "pygments_lexer": "ipython3",
   "version": "3.9.13"
  },
  "orig_nbformat": 4,
  "vscode": {
   "interpreter": {
    "hash": "fe956a1f6461866840977e8b69d32c8394b0cb2294fdaf24b1fea24f3f4d189c"
   }
  }
 },
 "nbformat": 4,
 "nbformat_minor": 2
}
